{
 "cells": [
  {
   "attachments": {},
   "cell_type": "markdown",
   "metadata": {},
   "source": [
    "## Model for network of heat pump shown home\n",
    "\n",
    "This code loads the required EPC/MCS data and generates a network for show homes with the given parameters. Gradio helps create an interactive interface for testing out different scenarios. "
   ]
  },
  {
   "cell_type": "code",
   "execution_count": 5,
   "metadata": {},
   "outputs": [
    {
     "name": "stdout",
     "output_type": "stream",
     "text": [
      "The autoreload extension is already loaded. To reload it, use:\n",
      "  %reload_ext autoreload\n"
     ]
    }
   ],
   "source": [
    "%load_ext autoreload\n",
    "%autoreload 2\n",
    "\n",
    "import gradio as gr\n",
    "\n",
    "from show_homes.pipeline import show_homes_network\n",
    "from show_homes.getters.show_home_data import get_show_home_data"
   ]
  },
  {
   "cell_type": "code",
   "execution_count": 6,
   "metadata": {},
   "outputs": [],
   "source": [
    "df = get_show_home_data()"
   ]
  },
  {
   "cell_type": "code",
   "execution_count": 7,
   "metadata": {},
   "outputs": [
    {
     "name": "stdout",
     "output_type": "stream",
     "text": [
      "Settings\n",
      "************\n",
      "Area: Orkney Islands\n",
      "Property type: Any\n",
      "Visitor ratio: 0.05\n",
      "Host ratio: 0.01\n",
      "Maximum visitors: 30\n",
      "Maximum distance: 30\n",
      "Same property type or not: True\n",
      "\n",
      "Before subsampling:\n",
      "# Props without HPs: 2200\n",
      "# Props with HPs: 1248\n",
      "\n",
      "After subsampling:\n",
      "# Props without HPs: 110\n",
      "# Props with HPs: 12\n",
      "User Guide: https://docs.kepler.gl/docs/keplergl-jupyter\n",
      "Map saved to /Users/juliasuter/Desktop/show_homes/show_homes/analysis/maps/Generated_network_map_Any_True_0.01_0.05_30_30_Orkney_Islands.html!\n"
     ]
    },
    {
     "name": "stderr",
     "output_type": "stream",
     "text": [
      "/Users/juliasuter/opt/anaconda3/envs/show_homes/lib/python3.8/site-packages/jupyter_client/session.py:719: UserWarning: Message serialization failed with:\n",
      "Out of range float values are not JSON compliant\n",
      "Supporting this message is deprecated in jupyter-client 7, please make sure your message is JSON-compliant\n",
      "  content = self.pack(content)\n",
      "/Users/juliasuter/opt/anaconda3/envs/show_homes/lib/python3.8/site-packages/jupyter_client/session.py:719: UserWarning: Message serialization failed with:\n",
      "Out of range float values are not JSON compliant\n",
      "Supporting this message is deprecated in jupyter-client 7, please make sure your message is JSON-compliant\n",
      "  content = self.pack(content)\n"
     ]
    }
   ],
   "source": [
    "_ = show_homes_network.model_network(df, 'Any', True, 5, 1, 5, 6, 30, 'Orkney Islands', verbose=True)"
   ]
  },
  {
   "cell_type": "code",
   "execution_count": 8,
   "metadata": {},
   "outputs": [
    {
     "name": "stdout",
     "output_type": "stream",
     "text": [
      "Running on local URL:  http://127.0.0.1:7861\n",
      "Running on public URL: https://6d21eea9ceaef6060a.gradio.live\n",
      "\n",
      "This share link expires in 72 hours. For free permanent hosting and GPU upgrades (NEW!), check out Spaces: https://huggingface.co/spaces\n"
     ]
    },
    {
     "data": {
      "text/html": [
       "<div><iframe src=\"https://6d21eea9ceaef6060a.gradio.live\" width=\"100%\" height=\"500\" allow=\"autoplay; camera; microphone; clipboard-read; clipboard-write;\" frameborder=\"0\" allowfullscreen></iframe></div>"
      ],
      "text/plain": [
       "<IPython.core.display.HTML object>"
      ]
     },
     "metadata": {},
     "output_type": "display_data"
    },
    {
     "data": {
      "text/plain": []
     },
     "execution_count": 8,
     "metadata": {},
     "output_type": "execute_result"
    },
    {
     "name": "stdout",
     "output_type": "stream",
     "text": [
      "User Guide: https://docs.kepler.gl/docs/keplergl-jupyter\n",
      "Map saved to /Users/juliasuter/Desktop/show_homes/show_homes/analysis/maps/Generated_network_map_Semi-detached_House_False_0.01_0.05_30_35_Orkney_Islands.html!\n"
     ]
    }
   ],
   "source": [
    "\n",
    "def G(property_type, same_prop_type, \n",
    "                            visitor_ratio, host_ratio, \n",
    "                            v_max, n_open_days, d_max, local_auth, verbose=False):\n",
    "    \n",
    "    return show_homes_network.model_network(df, property_type, same_prop_type, \n",
    "                            visitor_ratio, host_ratio,\n",
    "                            v_max, n_open_days, d_max, local_auth, verbose=verbose)\n",
    " \n",
    "    \n",
    "property_types = ['Flat', 'Semi-detached House', 'Detached House', 'Terraced House', 'Any']\n",
    "local_authorities = [la for la in sorted(list(df['LOCAL_AUTHORITY_LABEL'].unique())) + ['GB'] if la != 'unknown']\n",
    "    \n",
    "demo = gr.Interface(\n",
    "    fn=G,\n",
    "    inputs=[gr.components.Radio(property_types, label='Property Type', value='Detached House'), \n",
    "            gr.components.Radio([True, False], label='Show home of same property', value=True), \n",
    "            gr.components.Slider(0, 50, value=5, step=1, label='Visitor ratio (%)'),\n",
    "            gr.components.Slider(0, 50, value=1, step=1, label='Host ratio (%)'), \n",
    "            gr.components.Slider(1, 25, value=5, step=1, label='Max visitors'), \n",
    "            gr.components.Slider(1, 50, value=6, step=1, label='Max number of slots'), \n",
    "            gr.components.Slider(1, 75, value=35, step=1, label='Max distance (in km)'),\n",
    "            gr.components.Dropdown(local_authorities, value='Orkney Islands', label='Local authorities')],\n",
    "    outputs=[\"text\", \"html\"],\n",
    "    title='Network of Show Homes',)\n",
    "\n",
    "demo.launch(share=True)"
   ]
  }
 ],
 "metadata": {
  "jupytext": {
   "cell_metadata_filter": "-all",
   "comment_magics": true
  },
  "kernelspec": {
   "display_name": "show_homes",
   "language": "python",
   "name": "python3"
  },
  "language_info": {
   "codemirror_mode": {
    "name": "ipython",
    "version": 3
   },
   "file_extension": ".py",
   "mimetype": "text/x-python",
   "name": "python",
   "nbconvert_exporter": "python",
   "pygments_lexer": "ipython3",
   "version": "3.8.16"
  }
 },
 "nbformat": 4,
 "nbformat_minor": 2
}
