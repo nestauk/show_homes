{
 "cells": [
  {
   "cell_type": "code",
   "execution_count": 27,
   "metadata": {},
   "outputs": [
    {
     "name": "stdout",
     "output_type": "stream",
     "text": [
      "The autoreload extension is already loaded. To reload it, use:\n",
      "  %reload_ext autoreload\n"
     ]
    }
   ],
   "source": [
    "%load_ext autoreload\n",
    "%autoreload 2\n",
    "\n",
    "import pandas as pd\n",
    "import gradio as gr\n",
    "\n",
    "from show_homes import PROJECT_DIR, config\n",
    "from show_homes.pipeline import show_homes_network\n",
    "from show_homes.getters.show_home_data import get_show_home_data\n",
    "from show_homes.config import config"
   ]
  },
  {
   "cell_type": "code",
   "execution_count": 28,
   "metadata": {},
   "outputs": [],
   "source": [
    "df = get_show_home_data()"
   ]
  },
  {
   "cell_type": "code",
   "execution_count": 29,
   "metadata": {},
   "outputs": [],
   "source": [
    "_ = show_homes_network.model_network(df, 'Any', True, 0.5,4, 5, 6, 30, 'Orkney Islands', verbose=False)"
   ]
  },
  {
   "cell_type": "code",
   "execution_count": 4,
   "metadata": {},
   "outputs": [
    {
     "name": "stdout",
     "output_type": "stream",
     "text": [
      "Running on local URL:  http://127.0.0.1:7860\n",
      "Running on public URL: https://463f3eec-3c96-4d8c.gradio.live\n",
      "\n",
      "This share link expires in 72 hours. For free permanent hosting and GPU upgrades (NEW!), check out Spaces: https://huggingface.co/spaces\n"
     ]
    },
    {
     "data": {
      "text/html": [
       "<div><iframe src=\"https://463f3eec-3c96-4d8c.gradio.live\" width=\"100%\" height=\"500\" allow=\"autoplay; camera; microphone; clipboard-read; clipboard-write;\" frameborder=\"0\" allowfullscreen></iframe></div>"
      ],
      "text/plain": [
       "<IPython.core.display.HTML object>"
      ]
     },
     "metadata": {},
     "output_type": "display_data"
    },
    {
     "data": {
      "text/plain": []
     },
     "execution_count": 4,
     "metadata": {},
     "output_type": "execute_result"
    }
   ],
   "source": [
    "\n",
    "def G(property_type, same_prop_type, \n",
    "                            host_ratio, visitor_ratio, \n",
    "                            v_max, n_open_days, d_max, local_auth, verbose=True):\n",
    "    \n",
    "    return show_homes_network.model_network(df, property_type, same_prop_type, \n",
    "                            host_ratio, visitor_ratio, \n",
    "                            v_max, n_open_days, d_max, local_auth, verbose=True)\n",
    " \n",
    "    \n",
    "property_types = ['Flat', 'Semi-detached house', 'Detached House', 'Terraced House', 'Any']\n",
    "local_authorities = sorted(list(df['LOCAL_AUTHORITY_LABEL'].unique())) + ['GB']\n",
    "    \n",
    "demo = gr.Interface(\n",
    "    fn=G,\n",
    "    inputs=[gr.components.Radio(property_types, label='Property Type', value='Detached House'), \n",
    "            gr.components.Radio([True, False], label='Show home of same property', value=True), \n",
    "            gr.components.Slider(0, 100, value=1, step=1, label='Host ratio (%)'), \n",
    "            gr.components.Slider(0, 100, value=5, step=1, label='Visitor ratio (%)'),\n",
    "            gr.components.Slider(1, 50, value=5, step=1, label='Max visitors'), \n",
    "            gr.components.Slider(1, 50, value=6, step=1, label='Number of slots/open days'), \n",
    "            gr.components.Slider(1, 50, value=35, step=1, label='Max distance'),\n",
    "            gr.components.Dropdown(local_authorities, value='Manchester', label='Local authorities')],\n",
    "    outputs=[\"text\", \"html\"],\n",
    "    title='Network of Show Homes',)\n",
    "\n",
    "demo.launch(share=True)"
   ]
  },
  {
   "cell_type": "code",
   "execution_count": null,
   "metadata": {},
   "outputs": [],
   "source": []
  }
 ],
 "metadata": {
  "kernelspec": {
   "display_name": "show_homes",
   "language": "python",
   "name": "python3"
  },
  "language_info": {
   "codemirror_mode": {
    "name": "ipython",
    "version": 3
   },
   "file_extension": ".py",
   "mimetype": "text/x-python",
   "name": "python",
   "nbconvert_exporter": "python",
   "pygments_lexer": "ipython3",
   "version": "3.8.12"
  },
  "orig_nbformat": 4,
  "vscode": {
   "interpreter": {
    "hash": "d06bf507b056ad47de09828cd9798c52c8525e379d39ef4a1085a25aa5e6ab63"
   }
  }
 },
 "nbformat": 4,
 "nbformat_minor": 2
}
