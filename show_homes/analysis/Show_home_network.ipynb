{
 "cells": [
  {
   "attachments": {},
   "cell_type": "markdown",
   "metadata": {},
   "source": [
    "## Model for network of heat pump shown home\n",
    "\n",
    "This code loads the required EPC/MCS data and generates a network for show homes with the given parameters. Gradio helps create an interactive interface for testing out different scenarios. "
   ]
  },
  {
   "cell_type": "code",
   "execution_count": 2,
   "metadata": {},
   "outputs": [
    {
     "name": "stdout",
     "output_type": "stream",
     "text": [
      "2023-01-25 16:18:29,974 - botocore.credentials - INFO - Found credentials in shared credentials file: ~/.aws/credentials\n"
     ]
    }
   ],
   "source": [
    "%load_ext autoreload\n",
    "%autoreload 2\n",
    "\n",
    "import pandas as pd\n",
    "import gradio as gr\n",
    "\n",
    "from show_homes import PROJECT_DIR, config\n",
    "from show_homes.pipeline import show_homes_network\n",
    "from show_homes.getters.show_home_data import get_show_home_data\n",
    "from show_homes.config import config\n",
    "\n",
    "from show_homes.utils import geo_utils"
   ]
  },
  {
   "cell_type": "code",
   "execution_count": 3,
   "metadata": {},
   "outputs": [],
   "source": [
    "df = get_show_home_data()"
   ]
  },
  {
   "cell_type": "code",
   "execution_count": 10,
   "metadata": {},
   "outputs": [
    {
     "name": "stdout",
     "output_type": "stream",
     "text": [
      "Settings\n",
      "************\n",
      "Area: Orkney Islands\n",
      "Property type: Any\n",
      "Visitor ratio: 0.0\n",
      "Host ratio: 0.01\n",
      "Maximum visitors: 30\n",
      "Maximum distance: 30\n",
      "Same property type or not: True\n",
      "\n",
      "User Guide: https://docs.kepler.gl/docs/keplergl-jupyter\n",
      "Map saved to /Users/juliasuter/Documents/repositories/show_homes/show_homes/analysis/maps/Generated_network_map_Any_True_0.01_0.0_30_30_Orkney_Islands.html!\n"
     ]
    }
   ],
   "source": [
    "_ = show_homes_network.model_network(df, 'Any', True, 1, 0, 5, 6, 30, 'Orkney Islands', verbose=True)"
   ]
  },
  {
   "cell_type": "code",
   "execution_count": 4,
   "metadata": {},
   "outputs": [
    {
     "name": "stdout",
     "output_type": "stream",
     "text": [
      "Running on local URL:  http://127.0.0.1:7860\n",
      "Running on public URL: https://cf46366f-28b0-4b7c.gradio.live\n",
      "\n",
      "This share link expires in 72 hours. For free permanent hosting and GPU upgrades (NEW!), check out Spaces: https://huggingface.co/spaces\n"
     ]
    },
    {
     "data": {
      "text/html": [
       "<div><iframe src=\"https://cf46366f-28b0-4b7c.gradio.live\" width=\"100%\" height=\"500\" allow=\"autoplay; camera; microphone; clipboard-read; clipboard-write;\" frameborder=\"0\" allowfullscreen></iframe></div>"
      ],
      "text/plain": [
       "<IPython.core.display.HTML object>"
      ]
     },
     "metadata": {},
     "output_type": "display_data"
    },
    {
     "data": {
      "text/plain": []
     },
     "execution_count": 4,
     "metadata": {},
     "output_type": "execute_result"
    },
    {
     "name": "stdout",
     "output_type": "stream",
     "text": [
      "User Guide: https://docs.kepler.gl/docs/keplergl-jupyter\n",
      "Map saved to /Users/juliasuter/Documents/repositories/show_homes/show_homes/analysis/maps/Generated_network_map_Detached_House_True_0.01_0.05_30_35_Orkney_Islands.html!\n",
      "User Guide: https://docs.kepler.gl/docs/keplergl-jupyter\n",
      "Map saved to /Users/juliasuter/Documents/repositories/show_homes/show_homes/analysis/maps/Generated_network_map_Terraced_House_True_0.01_0.05_30_35_GB.html!\n",
      "User Guide: https://docs.kepler.gl/docs/keplergl-jupyter\n",
      "Map saved to /Users/juliasuter/Documents/repositories/show_homes/show_homes/analysis/maps/Generated_network_map_Terraced_House_True_0.01_0.05_30_10_unknown.html!\n",
      "User Guide: https://docs.kepler.gl/docs/keplergl-jupyter\n",
      "Map saved to /Users/juliasuter/Documents/repositories/show_homes/show_homes/analysis/maps/Generated_network_map_Terraced_House_True_0.01_0.0_30_10_unknown.html!\n",
      "User Guide: https://docs.kepler.gl/docs/keplergl-jupyter\n",
      "Map saved to /Users/juliasuter/Documents/repositories/show_homes/show_homes/analysis/maps/Generated_network_map_Terraced_House_False_0.01_0.06_30_10_unknown.html!\n",
      "User Guide: https://docs.kepler.gl/docs/keplergl-jupyter\n",
      "Map saved to /Users/juliasuter/Documents/repositories/show_homes/show_homes/analysis/maps/Generated_network_map_Terraced_House_False_0.33_0.06_30_10_unknown.html!\n",
      "User Guide: https://docs.kepler.gl/docs/keplergl-jupyter\n",
      "Map saved to /Users/juliasuter/Documents/repositories/show_homes/show_homes/analysis/maps/Generated_network_map_Terraced_House_False_0.33_0.28_30_10_Portsmouth.html!\n",
      "User Guide: https://docs.kepler.gl/docs/keplergl-jupyter\n",
      "Map saved to /Users/juliasuter/Documents/repositories/show_homes/show_homes/analysis/maps/Generated_network_map_Terraced_House_False_0.33_0.28_126_10_Portsmouth.html!\n",
      "User Guide: https://docs.kepler.gl/docs/keplergl-jupyter\n",
      "Map saved to /Users/juliasuter/Documents/repositories/show_homes/show_homes/analysis/maps/Generated_network_map_Terraced_House_True_0.33_0.28_126_10_Portsmouth.html!\n",
      "User Guide: https://docs.kepler.gl/docs/keplergl-jupyter\n",
      "Map saved to /Users/juliasuter/Documents/repositories/show_homes/show_homes/analysis/maps/Generated_network_map_Terraced_House_True_0.33_0.28_126_35_Portsmouth.html!\n",
      "User Guide: https://docs.kepler.gl/docs/keplergl-jupyter\n",
      "Map saved to /Users/juliasuter/Documents/repositories/show_homes/show_homes/analysis/maps/Generated_network_map_Terraced_House_True_0.33_0.28_126_41_Portsmouth.html!\n",
      "User Guide: https://docs.kepler.gl/docs/keplergl-jupyter\n",
      "Map saved to /Users/juliasuter/Documents/repositories/show_homes/show_homes/analysis/maps/Generated_network_map_Terraced_House_True_0.33_0.28_126_41_Knowsley.html!\n",
      "User Guide: https://docs.kepler.gl/docs/keplergl-jupyter\n",
      "Map saved to /Users/juliasuter/Documents/repositories/show_homes/show_homes/analysis/maps/Generated_network_map_Terraced_House_True_0.01_0.28_126_41_Knowsley.html!\n",
      "User Guide: https://docs.kepler.gl/docs/keplergl-jupyter\n",
      "Map saved to /Users/juliasuter/Documents/repositories/show_homes/show_homes/analysis/maps/Generated_network_map_Terraced_House_True_0.01_0.4_126_41_Knowsley.html!\n",
      "User Guide: https://docs.kepler.gl/docs/keplergl-jupyter\n",
      "Map saved to /Users/juliasuter/Documents/repositories/show_homes/show_homes/analysis/maps/Generated_network_map_Terraced_House_True_0.01_0.49_156_41_Knowsley.html!\n",
      "User Guide: https://docs.kepler.gl/docs/keplergl-jupyter\n",
      "Map saved to /Users/juliasuter/Documents/repositories/show_homes/show_homes/analysis/maps/Generated_network_map_Terraced_House_True_0.01_0.49_156_41_GB.html!\n",
      "User Guide: https://docs.kepler.gl/docs/keplergl-jupyter\n",
      "Map saved to /Users/juliasuter/Documents/repositories/show_homes/show_homes/analysis/maps/Generated_network_map_Detached_House_True_0.01_0.46_52_41_GB.html!\n",
      "User Guide: https://docs.kepler.gl/docs/keplergl-jupyter\n",
      "Map saved to /Users/juliasuter/Documents/repositories/show_homes/show_homes/analysis/maps/Generated_network_map_Semi-detached_House_True_0.01_0.5_58_41_West_Dunbartonshire.html!\n",
      "User Guide: https://docs.kepler.gl/docs/keplergl-jupyter\n",
      "Map saved to /Users/juliasuter/Documents/repositories/show_homes/show_homes/analysis/maps/Generated_network_map_Semi-detached_House_False_0.01_0.33_58_41_unknown.html!\n",
      "User Guide: https://docs.kepler.gl/docs/keplergl-jupyter\n",
      "Map saved to /Users/juliasuter/Documents/repositories/show_homes/show_homes/analysis/maps/Generated_network_map_Detached_House_True_0.01_0.05_30_35_Orkney_Islands.html!\n",
      "User Guide: https://docs.kepler.gl/docs/keplergl-jupyter\n",
      "Map saved to /Users/juliasuter/Documents/repositories/show_homes/show_homes/analysis/maps/Generated_network_map_Any_False_0.01_0.2_58_16_unknown.html!\n",
      "User Guide: https://docs.kepler.gl/docs/keplergl-jupyter\n",
      "Map saved to /Users/juliasuter/Documents/repositories/show_homes/show_homes/analysis/maps/Generated_network_map_Any_False_0.32_0.02_58_16_Wirral.html!\n",
      "User Guide: https://docs.kepler.gl/docs/keplergl-jupyter\n",
      "Map saved to /Users/juliasuter/Documents/repositories/show_homes/show_homes/analysis/maps/Generated_network_map_Any_False_0.5_0.02_58_46_Tunbridge_Wells.html!\n",
      "User Guide: https://docs.kepler.gl/docs/keplergl-jupyter\n",
      "Map saved to /Users/juliasuter/Documents/repositories/show_homes/show_homes/analysis/maps/Generated_network_map_Semi-detached_House_False_0.43_0.02_36_6_Tunbridge_Wells.html!\n",
      "User Guide: https://docs.kepler.gl/docs/keplergl-jupyter\n",
      "Map saved to /Users/juliasuter/Documents/repositories/show_homes/show_homes/analysis/maps/Generated_network_map_Semi-detached_House_True_0.43_0.02_36_6_Torbay.html!\n"
     ]
    }
   ],
   "source": [
    "\n",
    "def G(property_type, same_prop_type, \n",
    "                            host_ratio, visitor_ratio, \n",
    "                            v_max, n_open_days, d_max, local_auth, verbose=False):\n",
    "    \n",
    "    return show_homes_network.model_network(df, property_type, same_prop_type, \n",
    "                            host_ratio, visitor_ratio, \n",
    "                            v_max, n_open_days, d_max, local_auth, verbose=verbose)\n",
    " \n",
    "    \n",
    "property_types = ['Flat', 'Semi-detached House', 'Detached House', 'Terraced House', 'Any']\n",
    "local_authorities = sorted(list(df['LOCAL_AUTHORITY_LABEL'].unique())) + ['GB']\n",
    "    \n",
    "demo = gr.Interface(\n",
    "    fn=G,\n",
    "    inputs=[gr.components.Radio(property_types, label='Property Type', value='Detached House'), \n",
    "            gr.components.Radio([True, False], label='Show home of same property', value=True), \n",
    "            gr.components.Slider(0, 100, value=1, step=1, label='Host ratio (%)'), \n",
    "            gr.components.Slider(0, 100, value=5, step=1, label='Visitor ratio (%)'),\n",
    "            gr.components.Slider(1, 50, value=5, step=1, label='Max visitors'), \n",
    "            gr.components.Slider(1, 50, value=6, step=1, label='Number of slots/open days'), \n",
    "            gr.components.Slider(1, 50, value=35, step=1, label='Max distance'),\n",
    "            gr.components.Dropdown(local_authorities, value='Orkney Islands', label='Local authorities')],\n",
    "    outputs=[\"text\", \"html\"],\n",
    "    title='Network of Show Homes',)\n",
    "\n",
    "demo.launch(share=True)"
   ]
  }
 ],
 "metadata": {
  "jupytext": {
   "cell_metadata_filter": "-all",
   "comment_magics": true
  },
  "kernelspec": {
   "display_name": "show_homes_copy",
   "language": "python",
   "name": "python3"
  },
  "language_info": {
   "codemirror_mode": {
    "name": "ipython",
    "version": 3
   },
   "file_extension": ".py",
   "mimetype": "text/x-python",
   "name": "python",
   "nbconvert_exporter": "python",
   "pygments_lexer": "ipython3",
   "version": "3.8.12"
  },
  "vscode": {
   "interpreter": {
    "hash": "86cd4657264f051e68cdba2bf3c6e2938655e15daa12113810e92e1ef4d9f9db"
   }
  }
 },
 "nbformat": 4,
 "nbformat_minor": 2
}
